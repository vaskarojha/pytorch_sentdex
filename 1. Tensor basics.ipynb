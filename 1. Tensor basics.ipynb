{
 "cells": [
  {
   "cell_type": "code",
   "execution_count": 1,
   "id": "339fbedd",
   "metadata": {},
   "outputs": [
    {
     "name": "stdout",
     "output_type": "stream",
     "text": [
      "tensor([16.9600])\n"
     ]
    }
   ],
   "source": [
    "import torch\n",
    "x = torch.Tensor([5.3])\n",
    "y = torch.Tensor([3.2])\n",
    "\n",
    "print(x*y)"
   ]
  },
  {
   "cell_type": "code",
   "execution_count": 5,
   "id": "ebc3a2e3",
   "metadata": {},
   "outputs": [],
   "source": [
    "x = torch.zeros([3,3])"
   ]
  },
  {
   "cell_type": "code",
   "execution_count": 8,
   "id": "4595a60b",
   "metadata": {},
   "outputs": [
    {
     "data": {
      "text/plain": [
       "tensor([[0.2558, 0.2120, 0.0549, 0.0545],\n",
       "        [0.4934, 0.2899, 0.5147, 0.9249],\n",
       "        [0.9313, 0.7492, 0.9885, 0.8310]])"
      ]
     },
     "execution_count": 8,
     "metadata": {},
     "output_type": "execute_result"
    }
   ],
   "source": [
    "y = torch.rand([3,4])\n",
    "y"
   ]
  },
  {
   "cell_type": "code",
   "execution_count": 9,
   "id": "3cf6209c",
   "metadata": {},
   "outputs": [
    {
     "data": {
      "text/plain": [
       "tensor([[0.2558, 0.2120, 0.0549, 0.0545, 0.4934, 0.2899],\n",
       "        [0.5147, 0.9249, 0.9313, 0.7492, 0.9885, 0.8310]])"
      ]
     },
     "execution_count": 9,
     "metadata": {},
     "output_type": "execute_result"
    }
   ],
   "source": [
    "y.view(2,6)"
   ]
  },
  {
   "cell_type": "code",
   "execution_count": 12,
   "id": "b4a7e6a9",
   "metadata": {},
   "outputs": [
    {
     "data": {
      "text/plain": [
       "tensor([[0.2558, 0.2120, 0.0549, 0.0545, 0.4934, 0.2899, 0.5147, 0.9249, 0.9313,\n",
       "         0.7492, 0.9885, 0.8310]])"
      ]
     },
     "execution_count": 12,
     "metadata": {},
     "output_type": "execute_result"
    }
   ],
   "source": [
    "y= y.view(1,12)\n",
    "y"
   ]
  },
  {
   "cell_type": "code",
   "execution_count": null,
   "id": "2b9d51a0",
   "metadata": {},
   "outputs": [],
   "source": []
  }
 ],
 "metadata": {
  "kernelspec": {
   "display_name": "Python 3 (ipykernel)",
   "language": "python",
   "name": "python3"
  },
  "language_info": {
   "codemirror_mode": {
    "name": "ipython",
    "version": 3
   },
   "file_extension": ".py",
   "mimetype": "text/x-python",
   "name": "python",
   "nbconvert_exporter": "python",
   "pygments_lexer": "ipython3",
   "version": "3.9.7"
  }
 },
 "nbformat": 4,
 "nbformat_minor": 5
}
